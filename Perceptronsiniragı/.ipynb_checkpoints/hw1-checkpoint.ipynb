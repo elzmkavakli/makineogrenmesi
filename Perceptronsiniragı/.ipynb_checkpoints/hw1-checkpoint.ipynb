{
 "cells": [
  {
   "cell_type": "code",
   "execution_count": 45,
   "metadata": {},
   "outputs": [],
   "source": [
    "import matplotlib.pyplot as plt\n",
    "%matplotlib inline"
   ]
  },
  {
   "cell_type": "code",
   "execution_count": 46,
   "metadata": {},
   "outputs": [],
   "source": [
    "X, y = [], []\n",
    "\n",
    "with open('./dataset.csv', 'r') as f:\n",
    "    next(f)\n",
    "    for line in f:\n",
    "        line = line.strip()\n",
    "        if line:\n",
    "            values = line.split(',')\n",
    "        else:\n",
    "            continue\n",
    "        X.append([float(i) for i in values[:2]])\n",
    "        y.append(int(values[-1]))"
   ]
  },
  {
   "cell_type": "code",
   "execution_count": 47,
   "metadata": {},
   "outputs": [],
   "source": [
    "import random\n",
    "\n",
    "random.seed(123)\n",
    "\n",
    "idx = list(range(len(X)))\n",
    "\n",
    "random.shuffle(idx)\n",
    "\n",
    "X_train = [X[i] for i in idx[:80]] # Eğitim girdisi\n",
    "y_train = [y[i] for i in idx[:80]] # Eğitim çıktısı\n",
    "\n",
    "X_test = [X[i] for i in idx[80:]] # Test girdisi\n",
    "y_test = [y[i] for i in idx[80:]] # Test çıktısı\n"
   ]
  },
  {
   "cell_type": "code",
   "execution_count": 97,
   "metadata": {},
   "outputs": [
    {
     "data": {
      "image/png": "[encoded data removed]",
      "text/plain": [
       "<Figure size 432x288 with 1 Axes>"
      ]
     },
     "metadata": {
      "needs_background": "light"
     },
     "output_type": "display_data"
    }
   ],
   "source": [
    "plt.scatter([i[0] for idx, i in enumerate(X_train) if y_train[idx] == 0], \n",
    "           [i[1] for idx, i in enumerate(X_train) if y_train[idx] == 0],\n",
    "           label='class 0', marker='o')\n",
    "\n",
    "plt.scatter([i[0] for idx, i in enumerate(X_train) if y_train[idx] == 1], \n",
    "            [i[1] for idx, i in enumerate(X_train) if y_train[idx] == 1],\n",
    "            label='class 1', marker='s')\n",
    "\n",
    "plt.title('Training set')\n",
    "plt.xlabel('feature 1')\n",
    "plt.ylabel('feature 2')\n",
    "plt.xlim([0.0, 7])\n",
    "plt.ylim([-0.8, 0.8])\n",
    "plt.legend()\n",
    "plt.show()"
   ]
  },
  {
   "cell_type": "code",
   "execution_count": 49,
   "metadata": {},
   "outputs": [],
   "source": [
    "class Perceptron():\n",
    "    def __init__(self, num_features):\n",
    "        self.weights = self.mat_zeros(num_features,1)\n",
    "        #self.bias = self.mat_zeros(1,1)\n",
    "        self.bias = 0.\n",
    "# Perceptron Kodları\n",
    "    def forward(self, x):\n",
    "        if type(x[0])==list:\n",
    "            linear = [self.Y_hesapla(x[k], self.weights, self.bias) for k in range(len(x))]\n",
    "        else:\n",
    "            linear = [self.Y_hesapla(x, self.weights, self.bias)]     \n",
    "        prediction = self.vektor_0_1(linear)\n",
    "        return prediction\n",
    "        \n",
    "    def backward(self, x, y):  \n",
    "        predictions = self.forward(x)\n",
    "        errors = y - predictions[0]\n",
    "        return errors\n",
    "        \n",
    "    def train(self, x, y, epochs):\n",
    "        for e in range(epochs):\n",
    "            \n",
    "            for i in range(len(y)):\n",
    "                errors = self.backward(x[i], y[i])\n",
    "                c1=self.mat_mul(errors,x[i])\n",
    "                c2=self.mat_rotate(c1)\n",
    "                self.weights=self.sum_matrix(self.weights,c2)\n",
    "                self.bias=errors+self.bias\n",
    "                #self.bias=self.sum_matrix(self.bias,errors)\n",
    "                \n",
    "    def evaluate(self, x, y):\n",
    "        predictions = self.forward(x)\n",
    "        accuracy = self.test_hesap(y, predictions)\n",
    "        return accuracy\n",
    "    \n",
    "# ********* NUMPY ALTERNATEFİ OLACAK FONKSİYON TANIMLAMALARI **************\n",
    "    \n",
    "    # istenilen boyutta sıfırla doldurulmuş matris oluşturma\n",
    "    def mat_zeros (self, x, y): \n",
    "        satir, sutun = (x, y) \n",
    "        dizi_mat = [[0. for i in range(sutun)] for j in range(satir)] \n",
    "        return dizi_mat\n",
    "    \n",
    "    # y = w * x + b\n",
    "    def Y_hesapla(self,x,w,b):\n",
    "        \n",
    "        #b=self.mat2vek(b)\n",
    "        sonuc=[]\n",
    "        # X giriş matrisinin satır döngüsü\n",
    "        if type(x[0])==list:\n",
    "            for i in range(len(x)):\n",
    "                s=0 # matris çarpımı için toplam sayacı\n",
    "                # X giriş matrisi için sütun döngüsü (Matris Çarpımı Bu Döngüde)\n",
    "                for j in range(len(x[i])):\n",
    "                    s+=x[i][j]*w[j][0]\n",
    "                sonuc.append(s) # Çarpım işleminden sonra değeri listeye ekle\n",
    "            # b (bias) değerlerini çarpım değerlerine ilave et\n",
    "            for k in range(len(sonuc)):\n",
    "                sonuc[k]+=b\n",
    "        else:\n",
    "            s=0 # matris çarpımı için toplam sayacı\n",
    "            # X giriş vektörü için sütun döngüsü (Matris Çarpımı Bu Döngüde)\n",
    "            for a in range(len(x)):\n",
    "                s+=x[a]*w[a][0]\n",
    "            sonuc.append(s) # Çarpım işleminden sonra değeri listeye ekle\n",
    "            # b (bias) değerlerini çarpım değerlerine ilave et\n",
    "            for k in range(len(sonuc)):\n",
    "                sonuc[k]+=b\n",
    "        return sonuc\n",
    "    \n",
    "    def mat_mul(self,x,w):\n",
    "        return [x*w[j] for j in range(len(w))]\n",
    "    \n",
    "    # İki matrisi topla\n",
    "    def sum_matrix(self,m,n):\n",
    "        sonuc = self.mat_zeros(len(m),len(m[0]))\n",
    "\n",
    "        for i in range(len(m)):\n",
    "            for j in range(len(m[0])):\n",
    "                sonuc[i][j] = m[i][j] + n[i][j]\n",
    "        return sonuc\n",
    "    \n",
    "    # Matrisi çevir Yap\n",
    "    def mat_rotate(self,m):\n",
    "        m=[m]\n",
    "        te = [[m[j][i] for j in range(len(m))] for i in range(len(m[0]))] \n",
    "        return te\n",
    "    \n",
    "    # Test değerleri ile hesaplanan değerleri kıyaslayıp doğruluk değerini hesapla\n",
    "    def test_hesap(self, d,t):\n",
    "        s=0\n",
    "        for i in range(len(d)):\n",
    "            if d[i]==t[i] :\n",
    "                s+=1\n",
    "        return s/len(t)\n",
    "    \n",
    "    # Hesaplanan y değerleri için 0 ve 1 vektörünü oluştur\n",
    "    def vektor_0_1(self, d):\n",
    "       # d=self.mat2vek(d)\n",
    "        rx=[]\n",
    "        for k in range(len(d)):\n",
    "           rx.append(1 if d[k][0]>0. else 0)\n",
    "        return rx"
   ]
  },
  {
   "cell_type": "code",
   "execution_count": 50,
   "metadata": {},
   "outputs": [
    {
     "name": "stdout",
     "output_type": "stream",
     "text": [
      "Model parameters:\n",
      "\n",
      "\n",
      "  Weights: [[1.299999999999999], [-0.9000000000000002]]\n",
      "\n",
      "  Bias: -3.0\n",
      "\n"
     ]
    }
   ],
   "source": [
    "ppn = Perceptron(num_features=2)\n",
    "ppn.train(X_train, y_train, epochs=5)\n",
    "print('Model parameters:\\n\\n')\n",
    "print('  Weights: %s\\n' % ppn.weights)\n",
    "print('  Bias: %s\\n' % ppn.bias)"
   ]
  },
  {
   "cell_type": "code",
   "execution_count": 51,
   "metadata": {},
   "outputs": [
    {
     "name": "stdout",
     "output_type": "stream",
     "text": [
      "Train set accuracy: 100.00%\n"
     ]
    }
   ],
   "source": [
    "train_acc=ppn.evaluate(X_train,y_train)\n",
    "print('Train set accuracy: %.2f%%' % (train_acc*100))"
   ]
  },
  {
   "cell_type": "code",
   "execution_count": 52,
   "metadata": {},
   "outputs": [
    {
     "name": "stdout",
     "output_type": "stream",
     "text": [
      "Test set accuracy: 100.00%\n"
     ]
    }
   ],
   "source": [
    "test_acc=ppn.evaluate(X_test,y_test)\n",
    "print('Test set accuracy: %.2f%%' % (test_acc*100))"
   ]
  },
  {
   "cell_type": "code",
   "execution_count": 96,
   "metadata": {},
   "outputs": [
    {
     "data": {
      "image/png": "[encoded data removed]",
      "text/plain": [
       "<Figure size 1152x576 with 2 Axes>"
      ]
     },
     "metadata": {
      "needs_background": "light"
     },
     "output_type": "display_data"
    }
   ],
   "source": [
    "##########################\n",
    "### 2D Decision Boundary\n",
    "##########################\n",
    "w, b = ppn.weights, ppn.bias\n",
    "w0=w[0][0]\n",
    "w1=w[1][0]\n",
    "\n",
    "x_min = 1\n",
    "y_min = ( (-(w0 * x_min) - b) / w1 )\n",
    "\n",
    "x_max = 3.5\n",
    "y_max = ( (-(w0 * x_max) - b) / w1 )\n",
    "\n",
    "\n",
    "fig, ax = plt.subplots(1, 2, sharex=True, figsize=(16, 8))\n",
    "\n",
    "ax[0].plot([x_min, x_max], [y_min, y_max])\n",
    "ax[1].plot([x_min, x_max], [y_min, y_max])\n",
    "\n",
    "ax[0].scatter([i[0] for idx, i in enumerate(X_train) if y_train[idx] == 0], \n",
    "           [i[1] for idx, i in enumerate(X_train) if y_train[idx] == 0],\n",
    "           label='Train class 0', marker='o')\n",
    "\n",
    "ax[0].scatter([i[0] for idx, i in enumerate(X_train) if y_train[idx] == 1], \n",
    "            [i[1] for idx, i in enumerate(X_train) if y_train[idx] == 1],\n",
    "            label='Train class 1', marker='s')\n",
    "\n",
    "ax[1].scatter([i[0] for idx, i in enumerate(X_test) if y_test[idx] == 0], \n",
    "           [i[1] for idx, i in enumerate(X_test) if y_test[idx] == 0],\n",
    "           label='Test class 0', marker='o')\n",
    "\n",
    "ax[1].scatter([i[0] for idx, i in enumerate(X_test) if y_test[idx] == 1], \n",
    "            [i[1] for idx, i in enumerate(X_test) if y_test[idx] == 1],\n",
    "            label='Test class 1', marker='s')\n",
    "\n",
    "ax[0].legend(loc='upper right')\n",
    "ax[1].legend(loc='upper right')\n",
    "plt.show()"
   ]
  },
  {
   "cell_type": "code",
   "execution_count": null,
   "metadata": {},
   "outputs": [],
   "source": []
  }
 ],
 "metadata": {
  "kernelspec": {
   "display_name": "Python 3",
   "language": "python",
   "name": "python3"
  },
  "language_info": {
   "codemirror_mode": {
    "name": "ipython",
    "version": 3
   },
   "file_extension": ".py",
   "mimetype": "text/x-python",
   "name": "python",
   "nbconvert_exporter": "python",
   "pygments_lexer": "ipython3",
   "version": "3.7.6"
  },
  "toc": {
   "base_numbering": 1,
   "nav_menu": {},
   "number_sections": true,
   "sideBar": true,
   "skip_h1_title": false,
   "title_cell": "Table of Contents",
   "title_sidebar": "Contents",
   "toc_cell": false,
   "toc_position": {},
   "toc_section_display": true,
   "toc_window_display": false
  }
 },
 "nbformat": 4,
 "nbformat_minor": 4
}
